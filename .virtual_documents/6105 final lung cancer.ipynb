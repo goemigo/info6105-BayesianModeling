





import pandas as pd
import os

base_file_path = os.path.join("data_csv/", "a.Lung cancer deaths EU & US longer time period.csv")
base_df = pd.read_csv(base_file_path)

other_files = [f for f in os.listdir("data_csv/") if f.endswith('.csv') and f != "a.Lung cancer deaths EU & US longer time period.csv"]

merged_df = base_df.copy()
for file in other_files:
    file_path = os.path.join("data_csv/", file)
    print(file_path)
    df = pd.read_csv(file_path)
    df = df.drop(columns=['Entity'], errors='ignore')

    merged_df = merged_df.merge(df, on=['Code', 'Year'], how='outer')

merged_df.to_csv('merged_data.csv', index=False)


merged_df.shape


merged_df[(merged_df['Code'] == 'USA') & (merged_df['Year'] > 1960)].head(5)


merged_df.columns


unique_countries = merged_df['Entity'].nunique()
unique_countries





data_2021 = merged_df[merged_df['Year'] == 2021].sort_values(
    by='Age-standardized death rate per 100 000 standard population', 
    ascending=False
)
data_2021.head(5)











import pandas as pd
import seaborn as sns
import matplotlib.pyplot as plt

def plot_time_series_trends(df, country_code, target_variable='Age-standardized death rate per 100 000 standard population'):
    # Filter data for the specific country
    country_df = df[df['Code'] == country_code].copy()
    
    if country_df.empty:
        raise ValueError(f"No data available for country code: {country_code}")
    
    # Ensure 'Year' column exists
    if 'Year' not in country_df.columns:
        raise ValueError("'Year' column is missing from the DataFrame")
    
    # Select relevant columns (excluding non-numeric columns)
    exclude_cols = ['Entity', 'Code', 'Year','Number']
    numeric_cols = []
    for col in country_df.columns:
        if col not in exclude_cols:
            try:
                pd.to_numeric(country_df[col])
                numeric_cols.append(col)
            except ValueError:
                pass
    
    # Check if target_variable is in numeric_cols, if not add it
    if target_variable not in numeric_cols and target_variable in country_df.columns:
        numeric_cols.append(target_variable)

    # Prepare the DataFrame for plotting
    plot_df = country_df[['Year'] + numeric_cols]
    
    # Ensure all columns needed are present
    if len(plot_df.columns) <= 1:
        raise ValueError(f"No numeric data available for country {country_code}")

    # Create the plot with two y-axes
    fig, ax1 = plt.subplots(figsize=(20, 8))
    ax2 = ax1.twinx()

    # Plot GDP per capita on the second y-axis
    gdp_data = plot_df[['Year', 'GDP per capita, PPP (constant 2017 international $)']]
    ax2.plot(gdp_data['Year'], gdp_data['GDP per capita, PPP (constant 2017 international $)'], label='GDP per capita', color='red', marker='o')
    ax2.set_ylabel('GDP per capita', color='red')

    # Plot other variables on the first y-axis
    other_vars = [col for col in numeric_cols if col != 'GDP per capita, PPP (constant 2017 international $)']
    for variable in other_vars:
        data = plot_df[['Year', variable]]
        ax1.plot(data['Year'], data[variable], label=variable, marker='o')

    # Customize the plot
    plt.title(f'Time Series Trends for {country_code}')
    ax1.set_xlabel('Year')
    ax1.set_ylabel('Value (excluding GDP per capita)')

    # Set x-axis to show all years
    all_years = sorted(plot_df['Year'].unique())
    ax1.set_xticks(all_years)
    ax1.set_xticklabels(all_years, rotation=45)

    # Combine legends from both axes
    lines1, labels1 = ax1.get_legend_handles_labels()
    lines2, labels2 = ax2.get_legend_handles_labels()
    ax1.legend(lines1 + lines2, labels1 + labels2, loc='upper center', bbox_to_anchor=(0.5, -0.15), ncol=3)

    plt.tight_layout()
    plt.show()


plot_time_series_trends(merged_df,'HUN')


plot_time_series_trends(merged_df,'USA')





import pandas as pd
import seaborn as sns
import matplotlib.pyplot as plt

def pairplots_for_all_countries(df, target_variable='Age-standardized death rate per 100 000 standard population'):
    # Variables of interest
    variables_of_interest = [
        # 'Prevalence of current tobacco use (% of adults)',
        'PM2.5 air pollution, mean annual exposure (micrograms per cubic meter)',
        'Proportion of population with primary reliance on clean fuels and technologies for cooking (%) - Residence area type: Total',
        'public_health_expenditure_pc_gdp',
        'GDP per capita, PPP (constant 2017 international $)'
    ]
    
    # Ensure target variable is included
    variables_of_interest.append(target_variable)
    
    # Filter the dataframe for the selected variables and remove NaN values
    plot_df = df[variables_of_interest].dropna()
    
    # Number of rows needed for the pair plots (two columns per row)
    num_plots = len(variables_of_interest) - 1  # Subtract 1 to exclude the target variable
    num_rows = (num_plots + 1) // 2  # Calculate number of rows for two columns per row
    
    # Create subplots
    fig, axes = plt.subplots(num_rows, 2, figsize=(14, 6 * num_rows))
    
    # Flatten axes array to easily iterate through
    axes = axes.flatten()
    
    # Loop through the variables and plot them
    for i, col in enumerate(variables_of_interest[:-1]):  # Exclude the target variable itself
        sns.regplot(data=plot_df, x=col, y=target_variable, ax=axes[i], 
                    scatter_kws={'alpha':0.5}, line_kws={'color': 'red'})
        axes[i].set_xlabel(col)
        axes[i].set_ylabel(target_variable)
        
        # Calculate and display correlation
        correlation = plot_df[col].corr(plot_df[target_variable])
        axes[i].text(0.05, 0.95, f'Correlation: {correlation:.2f}', 
                     transform=axes[i].transAxes, 
                     verticalalignment='top')
    
    # Hide any empty subplots (if any)
    for j in range(i + 1, len(axes)):
        axes[j].axis('off')
    
    # Adjust layout
    plt.suptitle('Relationship between Variables and Lung Cancer Death Rate\n(All Countries)', fontsize=16)
    plt.tight_layout()
    
    return plot_df


# Plot for all countries
all_countries_data = pairplots_for_all_countries(merged_df)





import matplotlib.pyplot as plt
import numpy as np

def pair_plot_age_standardized(df, country_code):
    country_df = df[df['Code'] == country_code].copy()
    
    # Sort by year to ensure correct plotting
    country_df = country_df.sort_values('Year')
    
    # Target variable for y-axis
    y_col = 'Age-standardized death rate per 100 000 standard population'
    if y_col not in country_df.columns:
        print(f"{y_col} not found in data.")
        return
    
    # Select numeric columns, excluding 'Year', 'Number', and the target variable
    numeric_cols = country_df.select_dtypes(include=['float64', 'int64']).columns.tolist()
    numeric_cols = [col for col in numeric_cols if col not in ['Year', 'Number', y_col]]
    
    # Drop rows where the target variable is NaN
    country_df = country_df.dropna(subset=[y_col])
    
    # Only proceed if there are numeric columns to plot
    if not numeric_cols:
        print("No numeric columns to plot.")
        return

    num_cols = len(numeric_cols)
    if num_cols == 0:
        print("No valid numeric columns found for plotting.")
        return

    # Calculate the number of rows needed, each row has 2 columns
    num_rows = (num_cols + 1) // 2 if num_cols % 2 == 1 else num_cols // 2
    fig, axes = plt.subplots(num_rows, 2, figsize=(20, 5 * num_rows))
    axes = axes.flatten()  # Flatten the array of axes for easy iteration

    # Plot each variable, track the index of the last used subplot
    last_used_index = -1
    for i, col in enumerate(numeric_cols):
        subset_df = country_df.dropna(subset=[col])
        if not subset_df.empty:
            axes[i].scatter(subset_df[col], subset_df[y_col], alpha=0.7, color='blue')
            axes[i].set_title(f'{col} vs. {y_col}', fontsize=14)
            axes[i].set_xlabel(col, fontsize=12)
            axes[i].set_ylabel(y_col, fontsize=12)
            last_used_index = i

    # Hide any unused subplots
    for j in range(last_used_index + 1, len(axes)):
        axes[j].axis('off')
    
    plt.tight_layout()
    plt.suptitle(f'Pairwise Plots for {country_code}', fontsize=16)
    
    return country_df

# Example usage
# hun = pair_plot_age_standardized(merged_df, 'HUN')



hun = pair_plot_age_standardized(merged_df,'HUN')


usa4 = pair_plot_age_standardized(merged_df,'USA')





def plot_normalized_data(df, country_code):
    # Define the columns to plot
    columns_to_plot = [
        'Age-standardized death rate per 100 000 standard population',
        # 'Death rate per 100 000 population',
        'Manufactured cigarettes sold per adult per day',
        'public_health_expenditure_pc_gdp',
        'Carbon monoxide (CO) emissions'
        # 'Black carbon (BC) emissions',
        # 'PM10Primary',
        # 'PM2.5 air pollution, mean annual exposure (micrograms per cubic meter)'
        # 'Life expectancy - Type: period - Sex: both - Age: 0',
        # 'PM₂.₅ (Index)'
        # 'Proportion of population with primary reliance on clean fuels and technologies for cooking (%) - Residence area type: Total'
    ]
    
    # Filter data for the specified country
    country_data = df[df['Code'] == country_code]
    # only for HUN
    # country_data = country_data[country_data["Year"] >= 1920]

    # Sort by year and interpolate missing values
    country_data = country_data.sort_values('Year')
    interpolated_data = country_data[['Year'] + columns_to_plot].interpolate(method='linear', axis=0)
    
    # Normalize the data
    normalized_data = interpolated_data.copy()
    for column in columns_to_plot:
        if column in normalized_data.columns:
            normalized_data[column] = (normalized_data[column] - normalized_data[column].min()) / \
                                      (normalized_data[column].max() - normalized_data[column].min())
    
    # Plot the normalized data
    plt.figure(figsize=(14, 10))
    for column in columns_to_plot:
        if column in normalized_data.columns:
            plt.plot(normalized_data['Year'], normalized_data[column], label=column, alpha=0.8)
    
    plt.ylim(0, 1.5)
    plt.title(f"Normalized Trends for {country_code} Over Time", fontsize=16)
    plt.xlabel("Year", fontsize=14)
    plt.ylabel("Normalized Value (0-1)", fontsize=14)
    plt.legend(loc='best', fontsize=10)
    plt.grid(True, alpha=0.3)
    plt.tight_layout()
    plt.show()



usa3 = plot_normalized_data(merged_df,'HUN')


usa3 = plot_normalized_data(merged_df,'USA')











import pandas as pd
import numpy as np
import matplotlib.pyplot as plt
import statsmodels.api as sm
import statsmodels.formula.api as smf

data_clean = merged_df[[
    "Code", "Entity", "Year", "Death rate per 100 000 population", 
    "Manufactured cigarettes sold per adult per day", 
    "public_health_expenditure_pc_gdp", 
    "Life expectancy - Type: period - Sex: both - Age: 0", 
    "Carbon monoxide (CO) emissions"
    # "PM10Primary"
]]
#rename the columns for easier access
data_clean.columns = ["Code", "Entity", "Year", "Death", "Cigarette", "HealthExpense", "LifeExpectancy", "CO"]

# Filter data for the United States and relevant years
data_us = data_clean[data_clean["Code"] == "USA"]
start_year = 1950
end_year = 2020
lag = 30

filtered_data = data_us[(data_us["Year"] >= start_year) & (data_us["Year"] <= end_year)].copy() 
filtered_data["Cigarette"] = data_us.loc[data_us["Year"].between(start_year-lag, end_year-lag), "Cigarette"].values
filtered_data["CO"] = data_us.loc[data_us["Year"].between(start_year-lag, end_year-lag), "CO"].values / 1e7

# Define and fit the linear regression model
model = smf.ols("Death ~ Cigarette + LifeExpectancy + CO + HealthExpense", data=filtered_data).fit()
print(model.summary())








# Simplify the model (stepwise-like selection)
model_simplified = smf.ols("Death ~ Cigarette + CO", data=filtered_data).fit()
print(model_simplified.summary())

# Generate predictions using the simplified model
filtered_data["Cigarette"] = filtered_data["Cigarette"].interpolate()
filtered_data["Predicted_Death"] = model_simplified.predict(filtered_data[["Cigarette","CO"]]) 

# Plot true vs. predicted death rates
plt.figure(figsize=(8,6))
plt.plot(filtered_data["Year"], filtered_data["Death"], color="red", label="Actual Death Rate")
plt.plot(filtered_data["Year"], filtered_data["Predicted_Death"], color="blue", label="Predicted Death Rate")
plt.xlabel("Year")
plt.ylabel("Death Rate")
plt.title("Actual vs Predicted Death Rates")
plt.legend()
plt.show()






import pymc as pm
import numpy as np
import pandas as pd
import arviz as az
import matplotlib.pyplot as plt

# Data for Hungary
data_hun = data_clean[data_clean["Code"] == "HUN"][["Code", "Entity", "Year", "Death", "Cigarette", "CO"]]
data_hun["Cigarette"] = data_hun["Cigarette"].interpolate()
data_hun["CO"] = data_hun["CO"].interpolate()

# Precompute lagged data and add those as our new features
time_lag = np.arange(25, 35)
for lag in time_lag:
    data_hun[f"Cigarette_lag_{lag}"] = data_hun["Cigarette"].shift(lag)
    data_hun[f"Pollution_lag_{lag}"] = data_hun["CO"].shift(lag)

start_year = 1955
end_year = 2020
data_hun = data_hun[(data_hun["Year"] >= start_year) & (data_hun["Year"] <= end_year)]

with pm.Model() as hungary_model:
    beta_i = pm.Normal("beta_i", mu=0, sigma=10)
    beta_cig = pm.Normal("beta_cig", mu=0, sigma=10)
    beta_pollutant = pm.Normal("beta_pollutant", mu=0, sigma=10)
    
    # Create a tensor for all lagged variables
    cig_lags = np.column_stack([data_hun[f"Cigarette_lag_{lag}"] for lag in time_lag])
    pollution_lags = np.column_stack([data_hun[f"Pollution_lag_{lag}"] for lag in time_lag])

    # Use Dirichlet to create a probability distribution over the time range
    lag_weights = pm.Dirichlet("lag_weights", a=np.ones(len(time_lag)))
    
    # Weighted sum of lagged variables
    lagged_data_cig = pm.math.sum(cig_lags * lag_weights, axis=1)
    lagged_data_pollution = pm.math.sum(pollution_lags * lag_weights, axis=1)
    
    mu = beta_i + beta_cig * lagged_data_cig + beta_pollutant * lagged_data_pollution
    sigma = pm.HalfNormal("sigma", sigma=10)
    likelihood = pm.Normal("Death", mu=mu, sigma=sigma, observed=data_hun["Death"].values)


# pip install arviz


with hungary_model:
    trace = pm.sample(500, tune=1000, cores=1)

pm.summary(trace, hdi_prob=0.95)


az.plot_trace(trace, var_names=["beta_i", "beta_cig", "beta_pollutant"],figsize=(12, 10))








with hungary_model:
    trace = pm.sample(500, tune=1000, cores=1, return_inferencedata=True)

posterior_predictive = pm.sample_posterior_predictive(trace, var_names=["Death"], model=hungary_model)
# print(posterior_predictive.posterior_predictive)
predicted_deaths = posterior_predictive.posterior_predictive["Death"].mean(dim=["chain", "draw"])

# Plot true vs predicted death rates
plt.figure(figsize=(8,6))
plt.plot(data_hun["Year"], data_hun["Death"], color="red", label="Actual Death Rate")
plt.plot(data_hun["Year"], predicted_deaths, color="blue", label="Predicted Death Rate (Bayesian)")
plt.xlabel("Year")
plt.ylabel("Death Rate")
plt.title("Actual vs Predicted Death Rates (Bayesian Model)")
plt.legend()
plt.show()












